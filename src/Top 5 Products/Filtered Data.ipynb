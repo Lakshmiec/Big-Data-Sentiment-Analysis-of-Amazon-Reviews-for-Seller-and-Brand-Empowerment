{
 "cells": [
  {
   "cell_type": "code",
   "execution_count": 1,
   "id": "4bca04fd",
   "metadata": {},
   "outputs": [],
   "source": [
    "import json"
   ]
  },
  {
   "cell_type": "code",
   "execution_count": 2,
   "id": "dd7218a9",
   "metadata": {},
   "outputs": [],
   "source": [
    "keywords = [\"Headphone\", \"Headphones\", \"headphone\", \"headphones\"]\n",
    "\n",
    "def contains_keyword(text):\n",
    "    return any(keyword in text for keyword in keywords)"
   ]
  },
  {
   "cell_type": "code",
   "execution_count": 3,
   "id": "06d525ac",
   "metadata": {},
   "outputs": [
    {
     "name": "stdout",
     "output_type": "stream",
     "text": [
      "Filtering complete.\n"
     ]
    }
   ],
   "source": [
    "\n",
    "with open('meta_Electronics.json', 'r') as infile, open('filtered_metadat_Electronics.json', 'w') as outfile:\n",
    "    for line in infile:\n",
    "        try:\n",
    "            data = json.loads(line)\n",
    "            line_as_string = json.dumps(data)\n",
    "            if contains_keyword(line_as_string):\n",
    "                outfile.write(line + '\\n')\n",
    "        except json.JSONDecodeError:\n",
    "            print(f\"Error decoding JSON in line: {line}\")\n",
    "print(\"Filtering complete.\")\n"
   ]
  },
  {
   "cell_type": "code",
   "execution_count": null,
   "id": "79093532",
   "metadata": {},
   "outputs": [],
   "source": []
  }
 ],
 "metadata": {
  "kernelspec": {
   "display_name": "Python 3 (ipykernel)",
   "language": "python",
   "name": "python3"
  },
  "language_info": {
   "codemirror_mode": {
    "name": "ipython",
    "version": 3
   },
   "file_extension": ".py",
   "mimetype": "text/x-python",
   "name": "python",
   "nbconvert_exporter": "python",
   "pygments_lexer": "ipython3",
   "version": "3.9.18"
  }
 },
 "nbformat": 4,
 "nbformat_minor": 5
}
